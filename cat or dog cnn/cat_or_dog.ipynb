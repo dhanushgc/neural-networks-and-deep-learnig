{
 "cells": [
  {
   "cell_type": "code",
   "execution_count": 14,
   "metadata": {},
   "outputs": [
    {
     "name": "stdout",
     "output_type": "stream",
     "text": [
      "Epoch 1/10\n",
      "546/546 [==============================] - 53s 96ms/step - loss: 0.6559 - accuracy: 0.6105 - val_loss: 0.6006 - val_accuracy: 0.6772\n",
      "Epoch 2/10\n",
      "546/546 [==============================] - 53s 96ms/step - loss: 0.5804 - accuracy: 0.6948 - val_loss: 0.5615 - val_accuracy: 0.7162\n",
      "Epoch 3/10\n",
      "546/546 [==============================] - 55s 101ms/step - loss: 0.5263 - accuracy: 0.7398 - val_loss: 0.5855 - val_accuracy: 0.6998\n",
      "Epoch 4/10\n",
      "546/546 [==============================] - 54s 98ms/step - loss: 0.4879 - accuracy: 0.7676 - val_loss: 0.5028 - val_accuracy: 0.7571\n",
      "Epoch 5/10\n",
      "546/546 [==============================] - 56s 102ms/step - loss: 0.4581 - accuracy: 0.7860 - val_loss: 0.4849 - val_accuracy: 0.7769\n",
      "Epoch 6/10\n",
      "546/546 [==============================] - 58s 106ms/step - loss: 0.4296 - accuracy: 0.8010 - val_loss: 0.4942 - val_accuracy: 0.7737\n",
      "Epoch 7/10\n",
      "546/546 [==============================] - 52s 96ms/step - loss: 0.4043 - accuracy: 0.8161 - val_loss: 0.4682 - val_accuracy: 0.7866\n",
      "Epoch 8/10\n",
      "546/546 [==============================] - 53s 97ms/step - loss: 0.3800 - accuracy: 0.8292 - val_loss: 0.4905 - val_accuracy: 0.7830\n",
      "Epoch 9/10\n",
      "546/546 [==============================] - 55s 100ms/step - loss: 0.3596 - accuracy: 0.8387 - val_loss: 0.5011 - val_accuracy: 0.7766\n",
      "Epoch 10/10\n",
      "546/546 [==============================] - 51s 94ms/step - loss: 0.3399 - accuracy: 0.8483 - val_loss: 0.4984 - val_accuracy: 0.7806\n"
     ]
    },
    {
     "data": {
      "text/plain": [
       "<tensorflow.python.keras.callbacks.History at 0x1be5c51dd60>"
      ]
     },
     "execution_count": 14,
     "metadata": {},
     "output_type": "execute_result"
    }
   ],
   "source": [
    "import tensorflow as tf\n",
    "from tensorflow.keras.models import Sequential\n",
    "from tensorflow.keras.layers import Dense, Dropout, Flatten, Activation, Conv2D, MaxPooling2D\n",
    "import pickle\n",
    "import numpy as np\n",
    "\n",
    "X = pickle.load(open('x.pickle','rb'))\n",
    "y = pickle.load(open('y.pickle','rb'))\n",
    "y = np.array(y)\n",
    "#normalize data\n",
    "X = X/255.0\n",
    "\n",
    "\n",
    "model = Sequential()\n",
    "model.add(Conv2D(64,(3,3), input_shape = X.shape[1:]))\n",
    "model.add(Activation('relu'))\n",
    "model.add(MaxPooling2D(pool_size=(2,2)))\n",
    "\n",
    "model.add(Conv2D(64,(3,3)))\n",
    "model.add(Activation('relu'))\n",
    "model.add(MaxPooling2D(pool_size=(2,2)))\n",
    "\n",
    "model.add(Flatten())\n",
    "model.add(Dense(64))\n",
    "\n",
    "model.add(Dense(1))\n",
    "model.add(Activation('sigmoid'))\n",
    "\n",
    "model.compile(loss='binary_crossentropy',\n",
    "              optimizer='adam',\n",
    "              metrics=['accuracy'])\n",
    "\n",
    "model.fit(X, y, batch_size=32, epochs=10, validation_split=0.3)\n",
    "\n"
   ]
  },
  {
   "cell_type": "code",
   "execution_count": 15,
   "metadata": {},
   "outputs": [
    {
     "name": "stdout",
     "output_type": "stream",
     "text": [
      "WARNING:tensorflow:From c:\\program files\\python38\\lib\\site-packages\\tensorflow\\python\\ops\\resource_variable_ops.py:1813: calling BaseResourceVariable.__init__ (from tensorflow.python.ops.resource_variable_ops) with constraint is deprecated and will be removed in a future version.\n",
      "Instructions for updating:\n",
      "If using Keras pass *_constraint arguments to layers.\n",
      "INFO:tensorflow:Assets written to: cat_or_dog.model\\assets\n"
     ]
    }
   ],
   "source": [
    "model.save('cat_or_dog.model')"
   ]
  },
  {
   "cell_type": "code",
   "execution_count": 16,
   "metadata": {},
   "outputs": [],
   "source": [
    "new_model = tf.keras.models.load_model('cat_or_dog.model')"
   ]
  },
  {
   "cell_type": "code",
   "execution_count": 17,
   "metadata": {},
   "outputs": [],
   "source": [
    "pred = new_model.predict(X)"
   ]
  },
  {
   "cell_type": "code",
   "execution_count": 29,
   "metadata": {},
   "outputs": [
    {
     "name": "stdout",
     "output_type": "stream",
     "text": [
      "0\n"
     ]
    }
   ],
   "source": [
    "print(np.argmax(pred[6000]))"
   ]
  },
  {
   "cell_type": "code",
   "execution_count": 26,
   "metadata": {},
   "outputs": [
    {
     "data": {
      "text/plain": [
       "array([[[0.45882353],\n",
       "        [0.47058824],\n",
       "        [0.61176471],\n",
       "        ...,\n",
       "        [0.68235294],\n",
       "        [0.63529412],\n",
       "        [0.43137255]],\n",
       "\n",
       "       [[0.21568627],\n",
       "        [0.21568627],\n",
       "        [0.25882353],\n",
       "        ...,\n",
       "        [0.4       ],\n",
       "        [0.37647059],\n",
       "        [0.42352941]],\n",
       "\n",
       "       [[0.24313725],\n",
       "        [0.21960784],\n",
       "        [0.21568627],\n",
       "        ...,\n",
       "        [0.97254902],\n",
       "        [0.8627451 ],\n",
       "        [0.8745098 ]],\n",
       "\n",
       "       ...,\n",
       "\n",
       "       [[0.21568627],\n",
       "        [0.22745098],\n",
       "        [0.27843137],\n",
       "        ...,\n",
       "        [0.22745098],\n",
       "        [0.28235294],\n",
       "        [0.25490196]],\n",
       "\n",
       "       [[0.28235294],\n",
       "        [0.29803922],\n",
       "        [0.38823529],\n",
       "        ...,\n",
       "        [0.21568627],\n",
       "        [0.21568627],\n",
       "        [0.23529412]],\n",
       "\n",
       "       [[0.27843137],\n",
       "        [0.27058824],\n",
       "        [0.32941176],\n",
       "        ...,\n",
       "        [0.21568627],\n",
       "        [0.21176471],\n",
       "        [0.22352941]]])"
      ]
     },
     "execution_count": 26,
     "metadata": {},
     "output_type": "execute_result"
    }
   ],
   "source": [
    "X[0]"
   ]
  },
  {
   "cell_type": "code",
   "execution_count": null,
   "metadata": {},
   "outputs": [],
   "source": []
  }
 ],
 "metadata": {
  "kernelspec": {
   "display_name": "Python 3",
   "language": "python",
   "name": "python3"
  },
  "language_info": {
   "codemirror_mode": {
    "name": "ipython",
    "version": 3
   },
   "file_extension": ".py",
   "mimetype": "text/x-python",
   "name": "python",
   "nbconvert_exporter": "python",
   "pygments_lexer": "ipython3",
   "version": "3.8.1"
  }
 },
 "nbformat": 4,
 "nbformat_minor": 4
}
